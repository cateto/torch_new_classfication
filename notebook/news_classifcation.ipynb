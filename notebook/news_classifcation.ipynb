{
  "nbformat": 4,
  "nbformat_minor": 0,
  "metadata": {
    "colab": {
      "name": "load_model_success_to_class_최종.ipynb",
      "provenance": [],
      "collapsed_sections": []
    },
    "kernelspec": {
      "name": "python3",
      "display_name": "Python 3"
    },
    "language_info": {
      "name": "python"
    },
    "widgets": {
      "application/vnd.jupyter.widget-state+json": {
        "a3e7351af00e452c9ea4ee697081483d": {
          "model_module": "@jupyter-widgets/controls",
          "model_name": "HBoxModel",
          "state": {
            "_view_name": "HBoxView",
            "_dom_classes": [],
            "_model_name": "HBoxModel",
            "_view_module": "@jupyter-widgets/controls",
            "_model_module_version": "1.5.0",
            "_view_count": null,
            "_view_module_version": "1.5.0",
            "box_style": "",
            "layout": "IPY_MODEL_bd56bb4f92a44d2bb0f396eba2c6ff4a",
            "_model_module": "@jupyter-widgets/controls",
            "children": [
              "IPY_MODEL_283a10d509ec4220b6bac6ddda12dad2",
              "IPY_MODEL_cac4e09d5c8446d2b2f463ff1c37fd49"
            ]
          }
        },
        "bd56bb4f92a44d2bb0f396eba2c6ff4a": {
          "model_module": "@jupyter-widgets/base",
          "model_name": "LayoutModel",
          "state": {
            "_view_name": "LayoutView",
            "grid_template_rows": null,
            "right": null,
            "justify_content": null,
            "_view_module": "@jupyter-widgets/base",
            "overflow": null,
            "_model_module_version": "1.2.0",
            "_view_count": null,
            "flex_flow": null,
            "width": null,
            "min_width": null,
            "border": null,
            "align_items": null,
            "bottom": null,
            "_model_module": "@jupyter-widgets/base",
            "top": null,
            "grid_column": null,
            "overflow_y": null,
            "overflow_x": null,
            "grid_auto_flow": null,
            "grid_area": null,
            "grid_template_columns": null,
            "flex": null,
            "_model_name": "LayoutModel",
            "justify_items": null,
            "grid_row": null,
            "max_height": null,
            "align_content": null,
            "visibility": null,
            "align_self": null,
            "height": null,
            "min_height": null,
            "padding": null,
            "grid_auto_rows": null,
            "grid_gap": null,
            "max_width": null,
            "order": null,
            "_view_module_version": "1.2.0",
            "grid_template_areas": null,
            "object_position": null,
            "object_fit": null,
            "grid_auto_columns": null,
            "margin": null,
            "display": null,
            "left": null
          }
        },
        "283a10d509ec4220b6bac6ddda12dad2": {
          "model_module": "@jupyter-widgets/controls",
          "model_name": "FloatProgressModel",
          "state": {
            "_view_name": "ProgressView",
            "style": "IPY_MODEL_ad800a3bdc39422c8ed1f222ef450c7c",
            "_dom_classes": [],
            "description": "100%",
            "_model_name": "FloatProgressModel",
            "bar_style": "success",
            "max": 300,
            "_view_module": "@jupyter-widgets/controls",
            "_model_module_version": "1.5.0",
            "value": 300,
            "_view_count": null,
            "_view_module_version": "1.5.0",
            "orientation": "horizontal",
            "min": 0,
            "description_tooltip": null,
            "_model_module": "@jupyter-widgets/controls",
            "layout": "IPY_MODEL_482c9bef553b447287eb73587b43c57d"
          }
        },
        "cac4e09d5c8446d2b2f463ff1c37fd49": {
          "model_module": "@jupyter-widgets/controls",
          "model_name": "HTMLModel",
          "state": {
            "_view_name": "HTMLView",
            "style": "IPY_MODEL_73f01fb9f66d4a4cb40f700c8515919b",
            "_dom_classes": [],
            "description": "",
            "_model_name": "HTMLModel",
            "placeholder": "​",
            "_view_module": "@jupyter-widgets/controls",
            "_model_module_version": "1.5.0",
            "value": " 300/300 [03:57&lt;00:00,  1.26it/s]",
            "_view_count": null,
            "_view_module_version": "1.5.0",
            "description_tooltip": null,
            "_model_module": "@jupyter-widgets/controls",
            "layout": "IPY_MODEL_7c79295771754fa3a6a62b351739e427"
          }
        },
        "ad800a3bdc39422c8ed1f222ef450c7c": {
          "model_module": "@jupyter-widgets/controls",
          "model_name": "ProgressStyleModel",
          "state": {
            "_view_name": "StyleView",
            "_model_name": "ProgressStyleModel",
            "description_width": "initial",
            "_view_module": "@jupyter-widgets/base",
            "_model_module_version": "1.5.0",
            "_view_count": null,
            "_view_module_version": "1.2.0",
            "bar_color": null,
            "_model_module": "@jupyter-widgets/controls"
          }
        },
        "482c9bef553b447287eb73587b43c57d": {
          "model_module": "@jupyter-widgets/base",
          "model_name": "LayoutModel",
          "state": {
            "_view_name": "LayoutView",
            "grid_template_rows": null,
            "right": null,
            "justify_content": null,
            "_view_module": "@jupyter-widgets/base",
            "overflow": null,
            "_model_module_version": "1.2.0",
            "_view_count": null,
            "flex_flow": null,
            "width": null,
            "min_width": null,
            "border": null,
            "align_items": null,
            "bottom": null,
            "_model_module": "@jupyter-widgets/base",
            "top": null,
            "grid_column": null,
            "overflow_y": null,
            "overflow_x": null,
            "grid_auto_flow": null,
            "grid_area": null,
            "grid_template_columns": null,
            "flex": null,
            "_model_name": "LayoutModel",
            "justify_items": null,
            "grid_row": null,
            "max_height": null,
            "align_content": null,
            "visibility": null,
            "align_self": null,
            "height": null,
            "min_height": null,
            "padding": null,
            "grid_auto_rows": null,
            "grid_gap": null,
            "max_width": null,
            "order": null,
            "_view_module_version": "1.2.0",
            "grid_template_areas": null,
            "object_position": null,
            "object_fit": null,
            "grid_auto_columns": null,
            "margin": null,
            "display": null,
            "left": null
          }
        },
        "73f01fb9f66d4a4cb40f700c8515919b": {
          "model_module": "@jupyter-widgets/controls",
          "model_name": "DescriptionStyleModel",
          "state": {
            "_view_name": "StyleView",
            "_model_name": "DescriptionStyleModel",
            "description_width": "",
            "_view_module": "@jupyter-widgets/base",
            "_model_module_version": "1.5.0",
            "_view_count": null,
            "_view_module_version": "1.2.0",
            "_model_module": "@jupyter-widgets/controls"
          }
        },
        "7c79295771754fa3a6a62b351739e427": {
          "model_module": "@jupyter-widgets/base",
          "model_name": "LayoutModel",
          "state": {
            "_view_name": "LayoutView",
            "grid_template_rows": null,
            "right": null,
            "justify_content": null,
            "_view_module": "@jupyter-widgets/base",
            "overflow": null,
            "_model_module_version": "1.2.0",
            "_view_count": null,
            "flex_flow": null,
            "width": null,
            "min_width": null,
            "border": null,
            "align_items": null,
            "bottom": null,
            "_model_module": "@jupyter-widgets/base",
            "top": null,
            "grid_column": null,
            "overflow_y": null,
            "overflow_x": null,
            "grid_auto_flow": null,
            "grid_area": null,
            "grid_template_columns": null,
            "flex": null,
            "_model_name": "LayoutModel",
            "justify_items": null,
            "grid_row": null,
            "max_height": null,
            "align_content": null,
            "visibility": null,
            "align_self": null,
            "height": null,
            "min_height": null,
            "padding": null,
            "grid_auto_rows": null,
            "grid_gap": null,
            "max_width": null,
            "order": null,
            "_view_module_version": "1.2.0",
            "grid_template_areas": null,
            "object_position": null,
            "object_fit": null,
            "grid_auto_columns": null,
            "margin": null,
            "display": null,
            "left": null
          }
        },
        "d437ca93e13140c68580e5cb3f76da54": {
          "model_module": "@jupyter-widgets/controls",
          "model_name": "HBoxModel",
          "state": {
            "_view_name": "HBoxView",
            "_dom_classes": [],
            "_model_name": "HBoxModel",
            "_view_module": "@jupyter-widgets/controls",
            "_model_module_version": "1.5.0",
            "_view_count": null,
            "_view_module_version": "1.5.0",
            "box_style": "",
            "layout": "IPY_MODEL_fde768d80b3047d8b1e85b8e65e86209",
            "_model_module": "@jupyter-widgets/controls",
            "children": [
              "IPY_MODEL_f77c378f04c34cd49651fbe70139ba5e",
              "IPY_MODEL_0d1e1d529b414e8bae9893d7d59ee636"
            ]
          }
        },
        "fde768d80b3047d8b1e85b8e65e86209": {
          "model_module": "@jupyter-widgets/base",
          "model_name": "LayoutModel",
          "state": {
            "_view_name": "LayoutView",
            "grid_template_rows": null,
            "right": null,
            "justify_content": null,
            "_view_module": "@jupyter-widgets/base",
            "overflow": null,
            "_model_module_version": "1.2.0",
            "_view_count": null,
            "flex_flow": null,
            "width": null,
            "min_width": null,
            "border": null,
            "align_items": null,
            "bottom": null,
            "_model_module": "@jupyter-widgets/base",
            "top": null,
            "grid_column": null,
            "overflow_y": null,
            "overflow_x": null,
            "grid_auto_flow": null,
            "grid_area": null,
            "grid_template_columns": null,
            "flex": null,
            "_model_name": "LayoutModel",
            "justify_items": null,
            "grid_row": null,
            "max_height": null,
            "align_content": null,
            "visibility": null,
            "align_self": null,
            "height": null,
            "min_height": null,
            "padding": null,
            "grid_auto_rows": null,
            "grid_gap": null,
            "max_width": null,
            "order": null,
            "_view_module_version": "1.2.0",
            "grid_template_areas": null,
            "object_position": null,
            "object_fit": null,
            "grid_auto_columns": null,
            "margin": null,
            "display": null,
            "left": null
          }
        },
        "f77c378f04c34cd49651fbe70139ba5e": {
          "model_module": "@jupyter-widgets/controls",
          "model_name": "FloatProgressModel",
          "state": {
            "_view_name": "ProgressView",
            "style": "IPY_MODEL_3a4da6d523eb442198af7c87904ebb69",
            "_dom_classes": [],
            "description": "100%",
            "_model_name": "FloatProgressModel",
            "bar_style": "success",
            "max": 300,
            "_view_module": "@jupyter-widgets/controls",
            "_model_module_version": "1.5.0",
            "value": 300,
            "_view_count": null,
            "_view_module_version": "1.5.0",
            "orientation": "horizontal",
            "min": 0,
            "description_tooltip": null,
            "_model_module": "@jupyter-widgets/controls",
            "layout": "IPY_MODEL_971b036ff543431d903309b33ce96fef"
          }
        },
        "0d1e1d529b414e8bae9893d7d59ee636": {
          "model_module": "@jupyter-widgets/controls",
          "model_name": "HTMLModel",
          "state": {
            "_view_name": "HTMLView",
            "style": "IPY_MODEL_7f4f86ed819f42caabd8b7572a12873e",
            "_dom_classes": [],
            "description": "",
            "_model_name": "HTMLModel",
            "placeholder": "​",
            "_view_module": "@jupyter-widgets/controls",
            "_model_module_version": "1.5.0",
            "value": " 300/300 [02:19&lt;00:00,  2.15it/s]",
            "_view_count": null,
            "_view_module_version": "1.5.0",
            "description_tooltip": null,
            "_model_module": "@jupyter-widgets/controls",
            "layout": "IPY_MODEL_9569d394fad048ae813db8bf4f122e9b"
          }
        },
        "3a4da6d523eb442198af7c87904ebb69": {
          "model_module": "@jupyter-widgets/controls",
          "model_name": "ProgressStyleModel",
          "state": {
            "_view_name": "StyleView",
            "_model_name": "ProgressStyleModel",
            "description_width": "initial",
            "_view_module": "@jupyter-widgets/base",
            "_model_module_version": "1.5.0",
            "_view_count": null,
            "_view_module_version": "1.2.0",
            "bar_color": null,
            "_model_module": "@jupyter-widgets/controls"
          }
        },
        "971b036ff543431d903309b33ce96fef": {
          "model_module": "@jupyter-widgets/base",
          "model_name": "LayoutModel",
          "state": {
            "_view_name": "LayoutView",
            "grid_template_rows": null,
            "right": null,
            "justify_content": null,
            "_view_module": "@jupyter-widgets/base",
            "overflow": null,
            "_model_module_version": "1.2.0",
            "_view_count": null,
            "flex_flow": null,
            "width": null,
            "min_width": null,
            "border": null,
            "align_items": null,
            "bottom": null,
            "_model_module": "@jupyter-widgets/base",
            "top": null,
            "grid_column": null,
            "overflow_y": null,
            "overflow_x": null,
            "grid_auto_flow": null,
            "grid_area": null,
            "grid_template_columns": null,
            "flex": null,
            "_model_name": "LayoutModel",
            "justify_items": null,
            "grid_row": null,
            "max_height": null,
            "align_content": null,
            "visibility": null,
            "align_self": null,
            "height": null,
            "min_height": null,
            "padding": null,
            "grid_auto_rows": null,
            "grid_gap": null,
            "max_width": null,
            "order": null,
            "_view_module_version": "1.2.0",
            "grid_template_areas": null,
            "object_position": null,
            "object_fit": null,
            "grid_auto_columns": null,
            "margin": null,
            "display": null,
            "left": null
          }
        },
        "7f4f86ed819f42caabd8b7572a12873e": {
          "model_module": "@jupyter-widgets/controls",
          "model_name": "DescriptionStyleModel",
          "state": {
            "_view_name": "StyleView",
            "_model_name": "DescriptionStyleModel",
            "description_width": "",
            "_view_module": "@jupyter-widgets/base",
            "_model_module_version": "1.5.0",
            "_view_count": null,
            "_view_module_version": "1.2.0",
            "_model_module": "@jupyter-widgets/controls"
          }
        },
        "9569d394fad048ae813db8bf4f122e9b": {
          "model_module": "@jupyter-widgets/base",
          "model_name": "LayoutModel",
          "state": {
            "_view_name": "LayoutView",
            "grid_template_rows": null,
            "right": null,
            "justify_content": null,
            "_view_module": "@jupyter-widgets/base",
            "overflow": null,
            "_model_module_version": "1.2.0",
            "_view_count": null,
            "flex_flow": null,
            "width": null,
            "min_width": null,
            "border": null,
            "align_items": null,
            "bottom": null,
            "_model_module": "@jupyter-widgets/base",
            "top": null,
            "grid_column": null,
            "overflow_y": null,
            "overflow_x": null,
            "grid_auto_flow": null,
            "grid_area": null,
            "grid_template_columns": null,
            "flex": null,
            "_model_name": "LayoutModel",
            "justify_items": null,
            "grid_row": null,
            "max_height": null,
            "align_content": null,
            "visibility": null,
            "align_self": null,
            "height": null,
            "min_height": null,
            "padding": null,
            "grid_auto_rows": null,
            "grid_gap": null,
            "max_width": null,
            "order": null,
            "_view_module_version": "1.2.0",
            "grid_template_areas": null,
            "object_position": null,
            "object_fit": null,
            "grid_auto_columns": null,
            "margin": null,
            "display": null,
            "left": null
          }
        }
      }
    }
  },
  "cells": [
    {
      "cell_type": "code",
      "metadata": {
        "colab": {
          "base_uri": "https://localhost:8080/"
        },
        "id": "m3V7hMPqeRRr",
        "outputId": "bf2e4154-41cb-44e1-c555-760b738dbdc6"
      },
      "source": [
        "!pip install mxnet\n",
        "!pip install gluonnlp pandas tqdm\n",
        "!pip install sentencepiece\n",
        "# 변경: 최신 버전으로 설치하면 \"Input: must be Tensor, not str\" 라는 에러 발생\n",
        "!pip install transformers==3\n",
        "!pip install torch"
      ],
      "execution_count": 1,
      "outputs": [
        {
          "output_type": "stream",
          "text": [
            "Collecting mxnet\n",
            "  Downloading mxnet-1.8.0.post0-py2.py3-none-manylinux2014_x86_64.whl (46.9 MB)\n",
            "\u001b[K     |████████████████████████████████| 46.9 MB 44 kB/s \n",
            "\u001b[?25hCollecting graphviz<0.9.0,>=0.8.1\n",
            "  Downloading graphviz-0.8.4-py2.py3-none-any.whl (16 kB)\n",
            "Requirement already satisfied: numpy<2.0.0,>1.16.0 in /usr/local/lib/python3.7/dist-packages (from mxnet) (1.19.5)\n",
            "Requirement already satisfied: requests<3,>=2.20.0 in /usr/local/lib/python3.7/dist-packages (from mxnet) (2.23.0)\n",
            "Requirement already satisfied: chardet<4,>=3.0.2 in /usr/local/lib/python3.7/dist-packages (from requests<3,>=2.20.0->mxnet) (3.0.4)\n",
            "Requirement already satisfied: urllib3!=1.25.0,!=1.25.1,<1.26,>=1.21.1 in /usr/local/lib/python3.7/dist-packages (from requests<3,>=2.20.0->mxnet) (1.24.3)\n",
            "Requirement already satisfied: certifi>=2017.4.17 in /usr/local/lib/python3.7/dist-packages (from requests<3,>=2.20.0->mxnet) (2021.5.30)\n",
            "Requirement already satisfied: idna<3,>=2.5 in /usr/local/lib/python3.7/dist-packages (from requests<3,>=2.20.0->mxnet) (2.10)\n",
            "Installing collected packages: graphviz, mxnet\n",
            "  Attempting uninstall: graphviz\n",
            "    Found existing installation: graphviz 0.10.1\n",
            "    Uninstalling graphviz-0.10.1:\n",
            "      Successfully uninstalled graphviz-0.10.1\n",
            "Successfully installed graphviz-0.8.4 mxnet-1.8.0.post0\n",
            "Collecting gluonnlp\n",
            "  Downloading gluonnlp-0.10.0.tar.gz (344 kB)\n",
            "\u001b[K     |████████████████████████████████| 344 kB 4.1 MB/s \n",
            "\u001b[?25hRequirement already satisfied: pandas in /usr/local/lib/python3.7/dist-packages (1.1.5)\n",
            "Requirement already satisfied: tqdm in /usr/local/lib/python3.7/dist-packages (4.41.1)\n",
            "Requirement already satisfied: numpy>=1.16.0 in /usr/local/lib/python3.7/dist-packages (from gluonnlp) (1.19.5)\n",
            "Requirement already satisfied: cython in /usr/local/lib/python3.7/dist-packages (from gluonnlp) (0.29.23)\n",
            "Requirement already satisfied: packaging in /usr/local/lib/python3.7/dist-packages (from gluonnlp) (21.0)\n",
            "Requirement already satisfied: pytz>=2017.2 in /usr/local/lib/python3.7/dist-packages (from pandas) (2018.9)\n",
            "Requirement already satisfied: python-dateutil>=2.7.3 in /usr/local/lib/python3.7/dist-packages (from pandas) (2.8.1)\n",
            "Requirement already satisfied: six>=1.5 in /usr/local/lib/python3.7/dist-packages (from python-dateutil>=2.7.3->pandas) (1.15.0)\n",
            "Requirement already satisfied: pyparsing>=2.0.2 in /usr/local/lib/python3.7/dist-packages (from packaging->gluonnlp) (2.4.7)\n",
            "Building wheels for collected packages: gluonnlp\n",
            "  Building wheel for gluonnlp (setup.py) ... \u001b[?25l\u001b[?25hdone\n",
            "  Created wheel for gluonnlp: filename=gluonnlp-0.10.0-cp37-cp37m-linux_x86_64.whl size=595729 sha256=7d0ced401da8ab15d72e37fedaf0a72c30d7ec5420828838d5dfcf73e82daa0b\n",
            "  Stored in directory: /root/.cache/pip/wheels/be/b4/06/7f3fdfaf707e6b5e98b79c041e023acffbe395d78a527eae00\n",
            "Successfully built gluonnlp\n",
            "Installing collected packages: gluonnlp\n",
            "Successfully installed gluonnlp-0.10.0\n",
            "Collecting sentencepiece\n",
            "  Downloading sentencepiece-0.1.96-cp37-cp37m-manylinux_2_17_x86_64.manylinux2014_x86_64.whl (1.2 MB)\n",
            "\u001b[K     |████████████████████████████████| 1.2 MB 4.1 MB/s \n",
            "\u001b[?25hInstalling collected packages: sentencepiece\n",
            "Successfully installed sentencepiece-0.1.96\n",
            "Collecting transformers==3\n",
            "  Downloading transformers-3.0.0-py3-none-any.whl (754 kB)\n",
            "\u001b[K     |████████████████████████████████| 754 kB 4.0 MB/s \n",
            "\u001b[?25hRequirement already satisfied: tqdm>=4.27 in /usr/local/lib/python3.7/dist-packages (from transformers==3) (4.41.1)\n",
            "Requirement already satisfied: sentencepiece in /usr/local/lib/python3.7/dist-packages (from transformers==3) (0.1.96)\n",
            "Requirement already satisfied: packaging in /usr/local/lib/python3.7/dist-packages (from transformers==3) (21.0)\n",
            "Requirement already satisfied: filelock in /usr/local/lib/python3.7/dist-packages (from transformers==3) (3.0.12)\n",
            "Requirement already satisfied: requests in /usr/local/lib/python3.7/dist-packages (from transformers==3) (2.23.0)\n",
            "Collecting sacremoses\n",
            "  Downloading sacremoses-0.0.45-py3-none-any.whl (895 kB)\n",
            "\u001b[K     |████████████████████████████████| 895 kB 13.5 MB/s \n",
            "\u001b[?25hRequirement already satisfied: regex!=2019.12.17 in /usr/local/lib/python3.7/dist-packages (from transformers==3) (2019.12.20)\n",
            "Requirement already satisfied: numpy in /usr/local/lib/python3.7/dist-packages (from transformers==3) (1.19.5)\n",
            "Collecting tokenizers==0.8.0-rc4\n",
            "  Downloading tokenizers-0.8.0rc4-cp37-cp37m-manylinux1_x86_64.whl (3.0 MB)\n",
            "\u001b[K     |████████████████████████████████| 3.0 MB 11.1 MB/s \n",
            "\u001b[?25hRequirement already satisfied: pyparsing>=2.0.2 in /usr/local/lib/python3.7/dist-packages (from packaging->transformers==3) (2.4.7)\n",
            "Requirement already satisfied: idna<3,>=2.5 in /usr/local/lib/python3.7/dist-packages (from requests->transformers==3) (2.10)\n",
            "Requirement already satisfied: certifi>=2017.4.17 in /usr/local/lib/python3.7/dist-packages (from requests->transformers==3) (2021.5.30)\n",
            "Requirement already satisfied: urllib3!=1.25.0,!=1.25.1,<1.26,>=1.21.1 in /usr/local/lib/python3.7/dist-packages (from requests->transformers==3) (1.24.3)\n",
            "Requirement already satisfied: chardet<4,>=3.0.2 in /usr/local/lib/python3.7/dist-packages (from requests->transformers==3) (3.0.4)\n",
            "Requirement already satisfied: click in /usr/local/lib/python3.7/dist-packages (from sacremoses->transformers==3) (7.1.2)\n",
            "Requirement already satisfied: six in /usr/local/lib/python3.7/dist-packages (from sacremoses->transformers==3) (1.15.0)\n",
            "Requirement already satisfied: joblib in /usr/local/lib/python3.7/dist-packages (from sacremoses->transformers==3) (1.0.1)\n",
            "Installing collected packages: tokenizers, sacremoses, transformers\n",
            "Successfully installed sacremoses-0.0.45 tokenizers-0.8.0rc4 transformers-3.0.0\n",
            "Requirement already satisfied: torch in /usr/local/lib/python3.7/dist-packages (1.9.0+cu102)\n",
            "Requirement already satisfied: typing-extensions in /usr/local/lib/python3.7/dist-packages (from torch) (3.7.4.3)\n"
          ],
          "name": "stdout"
        }
      ]
    },
    {
      "cell_type": "code",
      "metadata": {
        "colab": {
          "base_uri": "https://localhost:8080/"
        },
        "id": "2ATgH7x5eUXE",
        "outputId": "30a5d519-0f48-4f10-8c32-ef2113e42573"
      },
      "source": [
        "!pip install git+https://git@github.com/SKTBrain/KoBERT.git@master"
      ],
      "execution_count": 2,
      "outputs": [
        {
          "output_type": "stream",
          "text": [
            "Collecting git+https://****@github.com/SKTBrain/KoBERT.git@master\n",
            "  Cloning https://****@github.com/SKTBrain/KoBERT.git (to revision master) to /tmp/pip-req-build-qb5fg5ug\n",
            "  Running command git clone -q 'https://****@github.com/SKTBrain/KoBERT.git' /tmp/pip-req-build-qb5fg5ug\n",
            "Building wheels for collected packages: kobert\n",
            "  Building wheel for kobert (setup.py) ... \u001b[?25l\u001b[?25hdone\n",
            "  Created wheel for kobert: filename=kobert-0.1.2-py3-none-any.whl size=12770 sha256=5c7730b9942fc62602819425ae4e3317564bc741635ca47c714ce86ef3eebb12\n",
            "  Stored in directory: /tmp/pip-ephem-wheel-cache-hfo0ciyz/wheels/d3/68/ca/334747dfb038313b49cf71f84832a33372f3470d9ddfd051c0\n",
            "Successfully built kobert\n",
            "Installing collected packages: kobert\n",
            "Successfully installed kobert-0.1.2\n"
          ],
          "name": "stdout"
        }
      ]
    },
    {
      "cell_type": "code",
      "metadata": {
        "id": "ZkEHL-ZpeWi7"
      },
      "source": [
        "import torch\n",
        "from torch import nn\n",
        "import torch.nn.functional as F\n",
        "import torch.optim as optim\n",
        "from torch.utils.data import Dataset, DataLoader\n",
        "import gluonnlp as nlp\n",
        "import numpy as np\n",
        "from tqdm import tqdm, tqdm_notebook\n",
        "\n",
        "from kobert.utils import get_tokenizer\n",
        "from kobert.pytorch_kobert import get_pytorch_kobert_model\n",
        "\n",
        "from transformers import AdamW\n",
        "from transformers.optimization import get_cosine_schedule_with_warmup"
      ],
      "execution_count": 3,
      "outputs": []
    },
    {
      "cell_type": "code",
      "metadata": {
        "id": "mdQZAQV36oEF"
      },
      "source": [
        "import pandas as pd\n",
        "import re\n",
        "import os\n",
        "import time"
      ],
      "execution_count": 4,
      "outputs": []
    },
    {
      "cell_type": "code",
      "metadata": {
        "id": "8eKaYuVjd3t2"
      },
      "source": [
        "class BERTClassifier(nn.Module):\n",
        "    def __init__(self,\n",
        "                 bert,\n",
        "                 hidden_size = 768, # bert의 hidden layer 크기?\n",
        "                #  num_classes=2,\n",
        "                 num_classes=9, # 분류 class 크기\n",
        "                 dr_rate=None,\n",
        "                 params=None):\n",
        "        super(BERTClassifier, self).__init__()\n",
        "        self.bert = bert\n",
        "        self.dr_rate = dr_rate\n",
        "                 \n",
        "        self.classifier = nn.Linear(hidden_size , num_classes) #nn.Linear\n",
        "        if dr_rate:\n",
        "            self.dropout = nn.Dropout(p=dr_rate)\n",
        "    \n",
        "    def gen_attention_mask(self, token_ids, valid_length):\n",
        "        attention_mask = torch.zeros_like(token_ids)\n",
        "        for i, v in enumerate(valid_length):\n",
        "            attention_mask[i][:v] = 1\n",
        "        return attention_mask.float()\n",
        "\n",
        "    def forward(self, token_ids, valid_length, segment_ids):\n",
        "        attention_mask = self.gen_attention_mask(token_ids, valid_length)\n",
        "        \n",
        "        _, pooler = self.bert(input_ids = token_ids, token_type_ids = segment_ids.long(), attention_mask = attention_mask.float().to(token_ids.device))\n",
        "        if self.dr_rate:\n",
        "            out = self.dropout(pooler)\n",
        "        return self.classifier(out)"
      ],
      "execution_count": 5,
      "outputs": []
    },
    {
      "cell_type": "code",
      "metadata": {
        "id": "NDH8G58PehSk"
      },
      "source": [
        "class BERTDataset(Dataset):\n",
        "    def __init__(self, dataset, sent_idx, label_idx, bert_tokenizer, max_len,\n",
        "                 pad, pair):\n",
        "        transform = nlp.data.BERTSentenceTransform(\n",
        "            bert_tokenizer, max_seq_length=max_len, pad=pad, pair=pair)\n",
        "\n",
        "        self.sentences = [transform([i[sent_idx]]) for i in dataset]\n",
        "        self.labels = [np.int32(i[label_idx]) for i in dataset]\n",
        "\n",
        "    def __getitem__(self, i):\n",
        "        return (self.sentences[i] + (self.labels[i], ))\n",
        "\n",
        "    def __len__(self):\n",
        "        return (len(self.labels))"
      ],
      "execution_count": 6,
      "outputs": []
    },
    {
      "cell_type": "code",
      "metadata": {
        "id": "LZS9up3rgX36"
      },
      "source": [
        "class NewsPredict():\n",
        "\n",
        "  def __init__(self, device_type='cpu'):\n",
        "    \"\"\"\n",
        "      Args:\n",
        "          device_type : default는 \"cpu\", gpu로 돌리고자 할 때 \"cuda:0\"을 입력합니다.\n",
        "    \"\"\"\n",
        "    self.device = torch.device(device_type) # cpu로 돌리도록 선언 기본값 / \"cuda:0\"\n",
        "    self.max_len = 128 # seqeunce 최대 길이\n",
        "  \n",
        "  #model and tokenizer 로딩 \n",
        "  def load_model_n_tokenizer(self, model_path):\n",
        "    \"\"\"\n",
        "      tips: Pytorch Model과 Tokenizer를 반환합니다.\n",
        "      Args:\n",
        "          model_path : 모델이 저장된 path.\n",
        "      Returns:\n",
        "          tok : nlp.data.BERTSPTokenizer\n",
        "          model : torch model\n",
        "    \"\"\"\n",
        "    bertmodel, vocab = get_pytorch_kobert_model()\n",
        "    tokenizer = get_tokenizer()\n",
        "    tok = nlp.data.BERTSPTokenizer(tokenizer, vocab, lower=False)\n",
        "    \n",
        "    model = torch.load(model_path, map_location=self.device)\n",
        "\n",
        "    return tok, model\n",
        "\n",
        "  #전처리 안된 데이터 전처리\n",
        "  def preprocess_data(self, data_path, data_colname):\n",
        "    \"\"\"\n",
        "      tips: csv 데이터를 받아 지정된 column의 내용을 preprocess 합니다.\n",
        "      Args:\n",
        "          data_path : csv데이터의 path\n",
        "          data_colname : 지정할 column명\n",
        "      Returns:\n",
        "          lucy_data : DataFrame\n",
        "    \"\"\"\n",
        "    lucy_data = pd.read_csv(data_path)\n",
        "\n",
        "    lucy_data[data_colname] = lucy_data[data_colname].str.replace(\"\\(.*\\)|\\s-\\s.*\",\" \" ,regex=True)\n",
        "    lucy_data[data_colname] = lucy_data[data_colname].str.replace(\"\\[.*\\]|\\s-\\s.*\",\" \",regex=True)\n",
        "    lucy_data[data_colname] = lucy_data[data_colname].str.replace(\"\\<.*\\>|\\s-\\s.*\",\" \",regex=True)\n",
        "    lucy_data[data_colname] = lucy_data[data_colname].str.replace(\"무단전재 및 재배포 금지\",\" \",regex=True)\n",
        "    lucy_data[data_colname] = lucy_data[data_colname].str.replace(\"무단 전재 및 재배포 금지\",\" \",regex=True)\n",
        "    lucy_data[data_colname] = lucy_data[data_colname].str.replace(\"©\",\" \",regex=True)\n",
        "    lucy_data[data_colname] = lucy_data[data_colname].str.replace(\"ⓒ\",\" \",regex=True)\n",
        "    lucy_data[data_colname] = lucy_data[data_colname].str.replace(\"저작권자\",\" \",regex=True)\n",
        "    lucy_data[data_colname] = lucy_data[data_colname].str.replace(\".* 기자\", \" \", regex=True) #기자 이름에서 오는 유사도 차단\n",
        "    lucy_data[data_colname] = lucy_data[data_colname].str.replace(\"사진 = .*\", \" \", regex=True) #사진 첨부 문구 삭제\n",
        "    lucy_data[data_colname] = lucy_data[data_colname].str.replace(\"사진=.*\", \" \", regex=True) #사진 첨부 문구 삭제\n",
        "    lucy_data[data_colname] = lucy_data[data_colname].str.replace('\\\"', \"\",regex=True)\n",
        "    lucy_data[data_colname] = lucy_data[data_colname].str.replace(\"([a-zA-Z0-9_.+-]+@[a-zA-Z0-9-]+.[a-zA-Z0-9-.]+)\", \" \", regex=True) #이메일 주소에서 오는 유사도 차단\n",
        "    lucy_data[data_colname] = lucy_data[data_colname].str.replace(\"\\n\",\" \")\n",
        "    lucy_data[data_colname] = lucy_data[data_colname].str.replace(\"\\r\",\" \")\n",
        "    lucy_data[data_colname] = lucy_data[data_colname].str.replace(\"\\t\",\" \")\n",
        "    lucy_data[data_colname] = lucy_data[data_colname].str.replace( \"\\’\" , \"\", regex=True)\n",
        "    lucy_data[data_colname] = lucy_data[data_colname].str.replace(\"[^ㄱ-ㅎㅏ-ㅣ가-힣 ]\",\" \")\n",
        "    lucy_data[data_colname] = lucy_data[data_colname].str.replace(\"[ ]{2,}\",\" \",regex=True)\n",
        "    \n",
        "    return lucy_data\n",
        "\n",
        "  #라벨을 정수로 인코딩\n",
        "  def category_encoding_n_save(self, lucy_data, save_directory, label_colname):\n",
        "    \"\"\"\n",
        "      tips: 텍스트로 된 라벨을 model에 지정된 정수 label로 인코딩 및 model의 input data를 파일로 저장합니다.\n",
        "      Args:\n",
        "          lucy_data : dataframe 형식의 데이터\n",
        "          save_directory : 저장할 디렉토리(파일명은 제외)\n",
        "          label_colname : 라벨의 컬럼명\n",
        "      Returns:\n",
        "          save_path : string\n",
        "    \"\"\"\n",
        "    lucy_data[label_colname+'_val'] = lucy_data[label_colname] # string 형 컬럼 생성\n",
        "\n",
        "    label_dict = {'0': 'IT/과학',\n",
        "      '1': '경제',\n",
        "      '2': '문화',\n",
        "      '3': '미용/건강',\n",
        "      '4': '사회',\n",
        "      '5': '생활',\n",
        "      '6': '스포츠',\n",
        "      '7': '연예',\n",
        "      '8': '정치'}\n",
        "\n",
        "    for key, value in label_dict.items():\n",
        "      print(value)\n",
        "      lucy_data[label_colname] = lucy_data[label_colname].str.replace(value, key)\n",
        "\n",
        "    now = int(round(time.time() * 1000))\n",
        "    filename = 'sample_' + str(now) + '.txt'\n",
        "    save_path = os.path.join(save_directory, filename)\n",
        "    lucy_data.to_csv(save_path , sep = '\\t' , index = False)\n",
        "    print(\"===============Data encoding success! please check this directory : \", save_path)\n",
        "    return save_path\n",
        "\n",
        "  #dataset 불러오기\n",
        "\n",
        "  def load_data(self, save_path, data_colnum, label_colnum):\n",
        "    \"\"\"\n",
        "      tips: 저장된 input dataset을 불러옵니다.\n",
        "      Args:\n",
        "          save_path : txt데이터의 path\n",
        "          data_colnum : data의 컬럼번호\n",
        "          label_colnum : label의 컬럼번호\n",
        "      Returns:\n",
        "          marking_set : dataframe\n",
        "    \"\"\"\n",
        "    predict_set = nlp.data.TSVDataset(save_path, field_indices=[data_colnum,label_colnum], num_discard_samples=1)\n",
        "    return predict_set\n",
        "  \n",
        "  #예측 \n",
        "  def predict_n_save_result(self, predict_set, tok, marking_set, marking_set_data_colname, save_directory, encoding_type='euc-kr'):\n",
        "    \"\"\"\n",
        "      tips: 저장된 input dataset을 불러옵니다.\n",
        "      Args:\n",
        "          predict_set : 예측할 데이터 셋\n",
        "          tok : tokenizer\n",
        "          marking_set : 기록할 데이터 셋 (dataframe)\n",
        "          marking_set_data_colname : 기록할 데이터 셋의 data 컬럼 이름\n",
        "          save_directory : 저장할 디렉토리\n",
        "          encoding_type : csv의 default는 euc-kr / 영문은 utf-8-sig \n",
        "      Returns:\n",
        "          predict_set : nlp.data.TSVDataset\n",
        "    \"\"\"\n",
        "    predict_set = BERTDataset(predict_set, 0, 1, tok, self.max_len, True, False)\n",
        "    predict_input = torch.utils.data.DataLoader(predict_set, batch_size=1, num_workers=9)\n",
        "    \n",
        "    #컬럼 초기화\n",
        "    marking_set['predict'] = -1\n",
        "    marking_set['predict_tag'] = 'a'\n",
        "\n",
        "    for batch_id, (token_ids, valid_length, segment_ids, label) in enumerate(tqdm_notebook(predict_input)):\n",
        "      token_ids = token_ids.long().to(self.device)\n",
        "      segment_ids = segment_ids.long().to(self.device)\n",
        "      valid_length= valid_length\n",
        "      out = model(token_ids, valid_length, segment_ids)\n",
        "      out_val = torch.argmax(out).cpu().numpy() # tensor > numpy로 변환\n",
        "      out_tag = ''\n",
        "      # print(marking_set[marking_set_data_colname][batch_id][1:50],'...') # 50자까지만 미리 출력 (빼도됨)\n",
        "      \n",
        "      if(out_val == 0):\n",
        "        # print('IT/과학')\n",
        "        out_tag = 'IT/과학'\n",
        "      elif(out_val == 1):\n",
        "        # print('경제')\n",
        "        out_tag = '경제'\n",
        "      elif(out_val == 2):\n",
        "        # print('문화')\n",
        "        out_tag = '문화'\n",
        "      elif(out_val == 3):\n",
        "        # print('미용/건강')\n",
        "        out_tag = '미용/건강'\n",
        "      elif(out_val == 4):\n",
        "        # print('사회')\n",
        "        out_tag = '사회'\n",
        "      elif(out_val == 5):\n",
        "        # print('생활')\n",
        "        out_tag = '생활'\n",
        "      elif(out_val == 6):\n",
        "        # print('스포츠')\n",
        "        out_tag = '스포츠'\n",
        "      elif(out_val == 7):\n",
        "        # print('연예')\n",
        "        out_tag = '연예'\n",
        "      elif(out_val == 8):\n",
        "        # print('정치')\n",
        "        out_tag = '정치'\n",
        "\n",
        "      marking_set['predict'][batch_id] = out_val\n",
        "      marking_set['predict_tag'][batch_id] = out_tag\n",
        "\n",
        "    now = int(round(time.time() * 1000))\n",
        "    filename = 'news_predict_' + str(now) + '.csv'\n",
        "    save_path = os.path.join(save_directory, filename)\n",
        "    marking_set.to_csv(save_path, encoding=encoding_type) #한글이면 euc-kr, utf-8-sig \n",
        "    print(\"===============Thank you for waiting. Predicting your dataset Finally Finish! Please Check this directory : \", save_path)\n",
        "    \n",
        "    return marking_set\n",
        "\n",
        "  #얼마나 타겟의 값을 잘 맞추었는지 평가하는 함수\n",
        "  def calc_accuracy(self, X,Y):\n",
        "    max_vals, max_indices = torch.max(X, 1)\n",
        "    train_acc = (max_indices == Y).sum().data.cpu().numpy()/max_indices.size()[0]\n",
        "    return train_acc\n",
        "\n",
        "  #정확도 평가하는 함수\n",
        "  def get_accuracy(self, model, predict_set, tok):\n",
        "    \"\"\"\n",
        "      tips: predict_set에 대한 정확도를 평가합니다.\n",
        "      Args:\n",
        "          predict_set : 예측할 데이터 셋\n",
        "          tok : tokenizer\n",
        "          model : Pytorch Model\n",
        "    \"\"\"\n",
        "    predict_set = BERTDataset(predict_set, 0, 1, tok, self.max_len, True, False)\n",
        "    predict_input = torch.utils.data.DataLoader(predict_set, batch_size=1, num_workers=9)\n",
        "    \n",
        "    model.eval() # 평가 모드로 변경\n",
        "      \n",
        "    test_acc = 0.0\n",
        "    for batch_id, (token_ids, valid_length, segment_ids, label) in enumerate(tqdm_notebook(predict_input)):\n",
        "        token_ids = token_ids.long().to(self.device)\n",
        "        segment_ids = segment_ids.long().to(self.device)\n",
        "        valid_length= valid_length\n",
        "        label = label.long().to(self.device)\n",
        "        out = model(token_ids, valid_length, segment_ids)\n",
        "        test_acc += self.calc_accuracy(out, label)\n",
        "    print(\"test accuracy : {}\".format(test_acc / (batch_id+1)))"
      ],
      "execution_count": 59,
      "outputs": []
    },
    {
      "cell_type": "code",
      "metadata": {
        "id": "IvhxAK3hankU"
      },
      "source": [
        "predict = NewsPredict()"
      ],
      "execution_count": 60,
      "outputs": []
    },
    {
      "cell_type": "code",
      "metadata": {
        "colab": {
          "base_uri": "https://localhost:8080/"
        },
        "id": "FV3m2vBEauWO",
        "outputId": "079b8920-3b31-4c1f-b89b-efa21ef221fb"
      },
      "source": [
        "tok, model = predict.load_model_n_tokenizer('/content/drive/MyDrive/rsn_nlp_project/20210802model_95.pt')"
      ],
      "execution_count": 11,
      "outputs": [
        {
          "output_type": "stream",
          "text": [
            "using cached model\n",
            "using cached model\n",
            "using cached model\n"
          ],
          "name": "stdout"
        }
      ]
    },
    {
      "cell_type": "code",
      "metadata": {
        "id": "OSBQrpPAa-xB"
      },
      "source": [
        "lucy_data = predict.preprocess_data('/content/drive/MyDrive/rsn_nlp_project/lucy_data0805_완.csv','contents')"
      ],
      "execution_count": 12,
      "outputs": []
    },
    {
      "cell_type": "code",
      "metadata": {
        "colab": {
          "base_uri": "https://localhost:8080/"
        },
        "id": "dfdpUhuubQyT",
        "outputId": "456ca28b-34da-4a76-cc13-8b3dcaefe055"
      },
      "source": [
        "save_path = predict.category_encoding_n_save(lucy_data, '/content/drive/MyDrive/rsn_nlp_project/', 'category')"
      ],
      "execution_count": 13,
      "outputs": [
        {
          "output_type": "stream",
          "text": [
            "IT/과학\n",
            "경제\n",
            "문화\n",
            "미용/건강\n",
            "사회\n",
            "생활\n",
            "스포츠\n",
            "연예\n",
            "정치\n",
            "===============Data encoding success! please check this directory :  /content/drive/MyDrive/rsn_nlp_project/sample_1628223379566.txt\n"
          ],
          "name": "stdout"
        }
      ]
    },
    {
      "cell_type": "code",
      "metadata": {
        "id": "jW9fD70Medij"
      },
      "source": [
        "predict_set = predict.load_data(save_path, 1,2)"
      ],
      "execution_count": 14,
      "outputs": []
    },
    {
      "cell_type": "code",
      "metadata": {
        "colab": {
          "base_uri": "https://localhost:8080/",
          "height": 317,
          "referenced_widgets": [
            "a3e7351af00e452c9ea4ee697081483d",
            "bd56bb4f92a44d2bb0f396eba2c6ff4a",
            "283a10d509ec4220b6bac6ddda12dad2",
            "cac4e09d5c8446d2b2f463ff1c37fd49",
            "ad800a3bdc39422c8ed1f222ef450c7c",
            "482c9bef553b447287eb73587b43c57d",
            "73f01fb9f66d4a4cb40f700c8515919b",
            "7c79295771754fa3a6a62b351739e427"
          ]
        },
        "id": "4ARsQCt2epAN",
        "outputId": "0b4864a4-0acc-4eca-b42f-c748121d5e8a"
      },
      "source": [
        "result_set = predict.predict_n_save_result(predict_set, tok, lucy_data, 'contents', '/content/drive/MyDrive/rsn_nlp_project/')"
      ],
      "execution_count": 18,
      "outputs": [
        {
          "output_type": "stream",
          "text": [
            "/usr/local/lib/python3.7/dist-packages/torch/utils/data/dataloader.py:481: UserWarning: This DataLoader will create 9 worker processes in total. Our suggested max number of worker in current system is 2, which is smaller than what this DataLoader is going to create. Please be aware that excessive worker creation might get DataLoader running slow or even freeze, lower the worker number to avoid potential slowness/freeze if necessary.\n",
            "  cpuset_checked))\n",
            "/usr/local/lib/python3.7/dist-packages/ipykernel_launcher.py:133: TqdmDeprecationWarning: This function will be removed in tqdm==5.0.0\n",
            "Please use `tqdm.notebook.tqdm` instead of `tqdm.tqdm_notebook`\n"
          ],
          "name": "stderr"
        },
        {
          "output_type": "display_data",
          "data": {
            "application/vnd.jupyter.widget-view+json": {
              "model_id": "a3e7351af00e452c9ea4ee697081483d",
              "version_minor": 0,
              "version_major": 2
            },
            "text/plain": [
              "HBox(children=(FloatProgress(value=0.0, max=300.0), HTML(value='')))"
            ]
          },
          "metadata": {
            "tags": []
          }
        },
        {
          "output_type": "stream",
          "text": [
            "/usr/local/lib/python3.7/dist-packages/ipykernel_launcher.py:170: SettingWithCopyWarning: \n",
            "A value is trying to be set on a copy of a slice from a DataFrame\n",
            "\n",
            "See the caveats in the documentation: https://pandas.pydata.org/pandas-docs/stable/user_guide/indexing.html#returning-a-view-versus-a-copy\n",
            "/usr/local/lib/python3.7/dist-packages/ipykernel_launcher.py:171: SettingWithCopyWarning: \n",
            "A value is trying to be set on a copy of a slice from a DataFrame\n",
            "\n",
            "See the caveats in the documentation: https://pandas.pydata.org/pandas-docs/stable/user_guide/indexing.html#returning-a-view-versus-a-copy\n"
          ],
          "name": "stderr"
        },
        {
          "output_type": "stream",
          "text": [
            "\n",
            "===============Thank you for waiting. Predicting your dataset Finally Finish! Please Check this directory :  /content/drive/MyDrive/rsn_nlp_project/news_predict_1628223558567.csv\n"
          ],
          "name": "stdout"
        }
      ]
    },
    {
      "cell_type": "code",
      "metadata": {
        "colab": {
          "base_uri": "https://localhost:8080/",
          "height": 414
        },
        "id": "-Sp-LzrG4ufJ",
        "outputId": "83808225-92d6-42be-ee22-c622f4f91296"
      },
      "source": [
        "result_set"
      ],
      "execution_count": 61,
      "outputs": [
        {
          "output_type": "execute_result",
          "data": {
            "text/html": [
              "<div>\n",
              "<style scoped>\n",
              "    .dataframe tbody tr th:only-of-type {\n",
              "        vertical-align: middle;\n",
              "    }\n",
              "\n",
              "    .dataframe tbody tr th {\n",
              "        vertical-align: top;\n",
              "    }\n",
              "\n",
              "    .dataframe thead th {\n",
              "        text-align: right;\n",
              "    }\n",
              "</style>\n",
              "<table border=\"1\" class=\"dataframe\">\n",
              "  <thead>\n",
              "    <tr style=\"text-align: right;\">\n",
              "      <th></th>\n",
              "      <th>id</th>\n",
              "      <th>contents</th>\n",
              "      <th>category</th>\n",
              "      <th>category_val</th>\n",
              "      <th>predict</th>\n",
              "      <th>predict_tag</th>\n",
              "    </tr>\n",
              "  </thead>\n",
              "  <tbody>\n",
              "    <tr>\n",
              "      <th>0</th>\n",
              "      <td>DN000000008778200425</td>\n",
              "      <td>공정소득은 코로나 이후 악화되는 자형 양극화에 대비하자는 것 반박 야권의 대선 주...</td>\n",
              "      <td>8</td>\n",
              "      <td>정치</td>\n",
              "      <td>8</td>\n",
              "      <td>정치</td>\n",
              "    </tr>\n",
              "    <tr>\n",
              "      <th>1</th>\n",
              "      <td>DN000000008808263362</td>\n",
              "      <td>공동대표 및 정책자문위원 등 임명장 수여 내 삶을 지켜주는 나라 신복지 충남포럼 ...</td>\n",
              "      <td>8</td>\n",
              "      <td>정치</td>\n",
              "      <td>8</td>\n",
              "      <td>정치</td>\n",
              "    </tr>\n",
              "    <tr>\n",
              "      <th>2</th>\n",
              "      <td>DN000000008791388703</td>\n",
              "      <td>바르셀로나 참가 인텔 기가테라 커뮤니케이션즈 를 오픈랜 생태계를 통하여 구축 및 ...</td>\n",
              "      <td>0</td>\n",
              "      <td>IT/과학</td>\n",
              "      <td>0</td>\n",
              "      <td>IT/과학</td>\n",
              "    </tr>\n",
              "    <tr>\n",
              "      <th>3</th>\n",
              "      <td>DN000000008853835944</td>\n",
              "      <td>더불어민주당 신영대 의원 이 민주당의 혁신과 흥행을 담당할 대선경선기획단에 인선됐...</td>\n",
              "      <td>8</td>\n",
              "      <td>정치</td>\n",
              "      <td>8</td>\n",
              "      <td>정치</td>\n",
              "    </tr>\n",
              "    <tr>\n",
              "      <th>4</th>\n",
              "      <td>DN000000008834209192</td>\n",
              "      <td>지난 일 미 멕시코 국경지대인 텍사스주 엘패소와 멕시코 시우대드후아레스 사이에서 ...</td>\n",
              "      <td>4</td>\n",
              "      <td>사회</td>\n",
              "      <td>4</td>\n",
              "      <td>사회</td>\n",
              "    </tr>\n",
              "    <tr>\n",
              "      <th>...</th>\n",
              "      <td>...</td>\n",
              "      <td>...</td>\n",
              "      <td>...</td>\n",
              "      <td>...</td>\n",
              "      <td>...</td>\n",
              "      <td>...</td>\n",
              "    </tr>\n",
              "    <tr>\n",
              "      <th>295</th>\n",
              "      <td>DN000000008766398883</td>\n",
              "      <td>파주시가 지난해 월 일 건축물관리법 이 시행됨에 따라 건축물을 해체할 경우 공사 전...</td>\n",
              "      <td>1</td>\n",
              "      <td>경제</td>\n",
              "      <td>5</td>\n",
              "      <td>생활</td>\n",
              "    </tr>\n",
              "    <tr>\n",
              "      <th>296</th>\n",
              "      <td>DN000000008766398882</td>\n",
              "      <td>블랙핑크 서비스를 출시한다 이날 서초동 입체음향 음악 스튜디오 사운드 에서 차원 ...</td>\n",
              "      <td>2</td>\n",
              "      <td>문화</td>\n",
              "      <td>0</td>\n",
              "      <td>IT/과학</td>\n",
              "    </tr>\n",
              "    <tr>\n",
              "      <th>297</th>\n",
              "      <td>DN000000008770346409</td>\n",
              "      <td>일 강제추행 피해 사실을 신고한 뒤 극단적 선택을 한 이모 공군 중사의 영정이 경...</td>\n",
              "      <td>4</td>\n",
              "      <td>사회</td>\n",
              "      <td>4</td>\n",
              "      <td>사회</td>\n",
              "    </tr>\n",
              "    <tr>\n",
              "      <th>298</th>\n",
              "      <td>DN000000008770346519</td>\n",
              "      <td>프로그램 표창원의 뉴스하이킥 출연자 최은영 서울대병원 간호사 진행자 월 일 오늘이...</td>\n",
              "      <td>5</td>\n",
              "      <td>생활</td>\n",
              "      <td>3</td>\n",
              "      <td>미용/건강</td>\n",
              "    </tr>\n",
              "    <tr>\n",
              "      <th>299</th>\n",
              "      <td>NWRW1900000060.18593</td>\n",
              "      <td>면 프로야구 외국인선수 계약현황 가 외국인 선수에 대한 투자가 비교적 많았다 엘지...</td>\n",
              "      <td>6</td>\n",
              "      <td>스포츠</td>\n",
              "      <td>6</td>\n",
              "      <td>스포츠</td>\n",
              "    </tr>\n",
              "  </tbody>\n",
              "</table>\n",
              "<p>300 rows × 6 columns</p>\n",
              "</div>"
            ],
            "text/plain": [
              "                       id  ... predict_tag\n",
              "0    DN000000008778200425  ...          정치\n",
              "1    DN000000008808263362  ...          정치\n",
              "2    DN000000008791388703  ...       IT/과학\n",
              "3    DN000000008853835944  ...          정치\n",
              "4    DN000000008834209192  ...          사회\n",
              "..                    ...  ...         ...\n",
              "295  DN000000008766398883  ...          생활\n",
              "296  DN000000008766398882  ...       IT/과학\n",
              "297  DN000000008770346409  ...          사회\n",
              "298  DN000000008770346519  ...       미용/건강\n",
              "299  NWRW1900000060.18593  ...         스포츠\n",
              "\n",
              "[300 rows x 6 columns]"
            ]
          },
          "metadata": {
            "tags": []
          },
          "execution_count": 61
        }
      ]
    },
    {
      "cell_type": "code",
      "metadata": {
        "colab": {
          "base_uri": "https://localhost:8080/",
          "height": 175,
          "referenced_widgets": [
            "d437ca93e13140c68580e5cb3f76da54",
            "fde768d80b3047d8b1e85b8e65e86209",
            "f77c378f04c34cd49651fbe70139ba5e",
            "0d1e1d529b414e8bae9893d7d59ee636",
            "3a4da6d523eb442198af7c87904ebb69",
            "971b036ff543431d903309b33ce96fef",
            "7f4f86ed819f42caabd8b7572a12873e",
            "9569d394fad048ae813db8bf4f122e9b"
          ]
        },
        "id": "KxshDHjBj1eO",
        "outputId": "3bad6c04-bb18-47f2-bf62-774c26409834"
      },
      "source": [
        "predict.get_accuracy(model, predict_set, tok)"
      ],
      "execution_count": 62,
      "outputs": [
        {
          "output_type": "stream",
          "text": [
            "/usr/local/lib/python3.7/dist-packages/torch/utils/data/dataloader.py:481: UserWarning: This DataLoader will create 9 worker processes in total. Our suggested max number of worker in current system is 2, which is smaller than what this DataLoader is going to create. Please be aware that excessive worker creation might get DataLoader running slow or even freeze, lower the worker number to avoid potential slowness/freeze if necessary.\n",
            "  cpuset_checked))\n",
            "/usr/local/lib/python3.7/dist-packages/ipykernel_launcher.py:202: TqdmDeprecationWarning: This function will be removed in tqdm==5.0.0\n",
            "Please use `tqdm.notebook.tqdm` instead of `tqdm.tqdm_notebook`\n"
          ],
          "name": "stderr"
        },
        {
          "output_type": "display_data",
          "data": {
            "application/vnd.jupyter.widget-view+json": {
              "model_id": "d437ca93e13140c68580e5cb3f76da54",
              "version_minor": 0,
              "version_major": 2
            },
            "text/plain": [
              "HBox(children=(FloatProgress(value=0.0, max=300.0), HTML(value='')))"
            ]
          },
          "metadata": {
            "tags": []
          }
        },
        {
          "output_type": "stream",
          "text": [
            "\n",
            "test accuracy : 0.83\n"
          ],
          "name": "stdout"
        }
      ]
    },
    {
      "cell_type": "markdown",
      "metadata": {
        "id": "yZlf9SshGiEk"
      },
      "source": [
        "{0: 'IT/과학',\n",
        " 1: '경제',\n",
        " 2: '문화',\n",
        " 3: '미용/건강',\n",
        " 4: '사회',\n",
        " 5: '생활',\n",
        " 6: '스포츠',\n",
        " 7: '연예',\n",
        " 8: '정치'}"
      ]
    }
  ]
}